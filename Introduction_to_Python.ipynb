{
  "nbformat": 4,
  "nbformat_minor": 0,
  "metadata": {
    "colab": {
      "name": "Introduction to Python",
      "provenance": [],
      "authorship_tag": "ABX9TyNRECJ5nS96l57hFpcoLgz8",
      "include_colab_link": true
    },
    "kernelspec": {
      "name": "python3",
      "display_name": "Python 3"
    }
  },
  "cells": [
    {
      "cell_type": "markdown",
      "metadata": {
        "id": "view-in-github",
        "colab_type": "text"
      },
      "source": [
        "<a href=\"https://colab.research.google.com/github/AsadMohammad18/Data-Analytics/blob/main/Introduction_to_Python.ipynb\" target=\"_parent\"><img src=\"https://colab.research.google.com/assets/colab-badge.svg\" alt=\"Open In Colab\"/></a>"
      ]
    },
    {
      "cell_type": "code",
      "metadata": {
        "colab": {
          "base_uri": "https://localhost:8080/",
          "height": 35
        },
        "id": "z4RS22LSH2hk",
        "outputId": "d2c740d6-c1e1-417d-8315-eb964bafc3bb"
      },
      "source": [
        "\"Hello World\"\r\n",
        "#print(\"Hello World\")\r\n",
        "#This is the beginning of coding Python"
      ],
      "execution_count": 6,
      "outputs": [
        {
          "output_type": "execute_result",
          "data": {
            "application/vnd.google.colaboratory.intrinsic+json": {
              "type": "string"
            },
            "text/plain": [
              "'Hello World'"
            ]
          },
          "metadata": {
            "tags": []
          },
          "execution_count": 6
        }
      ]
    },
    {
      "cell_type": "code",
      "metadata": {
        "colab": {
          "base_uri": "https://localhost:8080/"
        },
        "id": "s5GYDVCtJ6Ki",
        "outputId": "e8bd3daf-33ba-4fda-ffde-fb6dffc67e97"
      },
      "source": [
        "variableA = \"Hello World\"\r\n",
        "print(variableA)"
      ],
      "execution_count": 7,
      "outputs": [
        {
          "output_type": "stream",
          "text": [
            "Hello World\n"
          ],
          "name": "stdout"
        }
      ]
    },
    {
      "cell_type": "code",
      "metadata": {
        "colab": {
          "base_uri": "https://localhost:8080/"
        },
        "id": "Vq7HpsTZIx9n",
        "outputId": "ec87fbad-968d-4bee-caef-6ed2dbd7c5b8"
      },
      "source": [
        "Variable_greeting = \"Welcome to Macys!\"\r\n",
        "print(Variable_greeting)"
      ],
      "execution_count": 9,
      "outputs": [
        {
          "output_type": "stream",
          "text": [
            "Welcome to Macys!\n"
          ],
          "name": "stdout"
        }
      ]
    },
    {
      "cell_type": "code",
      "metadata": {
        "colab": {
          "base_uri": "https://localhost:8080/"
        },
        "id": "uNVj6MotOBmZ",
        "outputId": "324d19a2-ac14-43fd-c03d-9b021f9c0d04"
      },
      "source": [
        "school = \"cuny brooklyn college\"\r\n",
        "print(school.upper())\r\n",
        "print(school.lower())\r\n",
        " "
      ],
      "execution_count": 10,
      "outputs": [
        {
          "output_type": "stream",
          "text": [
            "CUNY BROOKLYN COLLEGE\n",
            "cuny brooklyn college\n"
          ],
          "name": "stdout"
        }
      ]
    },
    {
      "cell_type": "code",
      "metadata": {
        "colab": {
          "base_uri": "https://localhost:8080/"
        },
        "id": "chYvy7J_PgFm",
        "outputId": "338b5976-b781-403d-ff40-361e424edf6f"
      },
      "source": [
        "firstname = \"Mohammad\"\r\n",
        "lastname = \"Soles\"\r\n",
        "PersonalName = firstname + \" \" + lastname \r\n",
        "print(PersonalName)\r\n"
      ],
      "execution_count": 15,
      "outputs": [
        {
          "output_type": "stream",
          "text": [
            "Mohammad Soles\n"
          ],
          "name": "stdout"
        }
      ]
    },
    {
      "cell_type": "code",
      "metadata": {
        "colab": {
          "base_uri": "https://localhost:8080/"
        },
        "id": "7FlRLwyIRJP1",
        "outputId": "e8816151-6dba-4e8c-d7b3-7001e0bd9685"
      },
      "source": [
        "firstname = \"Mohammad\"\r\n",
        "lastname = \"Soles\"\r\n",
        "numberX = \"1\"\r\n",
        "PersonalName = firstname + \" \" + lastname + \" \" + numberX\r\n",
        "print(PersonalName)\r\n"
      ],
      "execution_count": 18,
      "outputs": [
        {
          "output_type": "stream",
          "text": [
            "Mohammad Soles 1\n"
          ],
          "name": "stdout"
        }
      ]
    },
    {
      "cell_type": "code",
      "metadata": {
        "colab": {
          "base_uri": "https://localhost:8080/"
        },
        "id": "H_FUWTe1Rhg5",
        "outputId": "65e98dc7-d871-4d02-f1db-87ba03c6b55c"
      },
      "source": [
        "firstname = \"Mohammad\"\r\n",
        "lastname = \"Soles\"\r\n",
        "numberX = \"1\"\r\n",
        "PersonalName = firstname + \" \" + lastname + \" \" + numberX\r\n",
        "print(PersonalName)\r\n",
        "\r\n",
        "print(\"Mohammad\")\r\n",
        "print(\"\\tSoles\")\r\n",
        "print(\"\\nSoles\")\r\n",
        "\r\n",
        "\r\n",
        "\r\n"
      ],
      "execution_count": 26,
      "outputs": [
        {
          "output_type": "stream",
          "text": [
            "Mohammad Soles 1\n",
            "Mohammad\n",
            "\tSoles\n",
            "\n",
            "Soles\n"
          ],
          "name": "stdout"
        }
      ]
    },
    {
      "cell_type": "code",
      "metadata": {
        "colab": {
          "base_uri": "https://localhost:8080/",
          "height": 52
        },
        "id": "ieKrGhCbS37V",
        "outputId": "4c7f23e5-0ec8-4b9f-f0ff-8b4a71a4f02b"
      },
      "source": [
        "Name = \"Mohammad Asad     M.D.\"\r\n",
        "print(Name)\r\n",
        "Name.rstrip()"
      ],
      "execution_count": 30,
      "outputs": [
        {
          "output_type": "stream",
          "text": [
            "Mohammad Asad     M.D.\n"
          ],
          "name": "stdout"
        },
        {
          "output_type": "execute_result",
          "data": {
            "application/vnd.google.colaboratory.intrinsic+json": {
              "type": "string"
            },
            "text/plain": [
              "'Mohammad Asad     M.D.'"
            ]
          },
          "metadata": {
            "tags": []
          },
          "execution_count": 30
        }
      ]
    },
    {
      "cell_type": "code",
      "metadata": {
        "colab": {
          "base_uri": "https://localhost:8080/"
        },
        "id": "cxaERvY3T6dJ",
        "outputId": "3f04bf2c-4d32-414e-d836-7db39f3b0960"
      },
      "source": [
        "name = \"John\"\r\n",
        "print(\"Hello\" + \" \" + name + \",\" + \" \" + \"What are you doing after class?\")\r\n",
        "\r\n",
        "name_two = \"david li\"\r\n",
        "print(name_two.lower())\r\n",
        "print(name_two.upper())\r\n",
        "\r\n",
        "print(\"\\tdavid\")\r\n",
        "print('\\tdavid'.lstrip())"
      ],
      "execution_count": 47,
      "outputs": [
        {
          "output_type": "stream",
          "text": [
            "Hello John, What are you doing after class?\n",
            "david li\n",
            "DAVID LI\n",
            "\tdavid\n",
            "david\n"
          ],
          "name": "stdout"
        }
      ]
    },
    {
      "cell_type": "code",
      "metadata": {
        "colab": {
          "base_uri": "https://localhost:8080/"
        },
        "id": "SkB-BotuXEDt",
        "outputId": "08a340e5-aefe-4fac-c8b5-28485d9f7caf"
      },
      "source": [
        "age = \"25\"\r\n",
        "message = \"Happy\" + \" \" + age + \"th Birthday!\"\r\n",
        "print(message)"
      ],
      "execution_count": 56,
      "outputs": [
        {
          "output_type": "stream",
          "text": [
            "Happy 25th Birthday!\n"
          ],
          "name": "stdout"
        }
      ]
    },
    {
      "cell_type": "code",
      "metadata": {
        "colab": {
          "base_uri": "https://localhost:8080/",
          "height": 214
        },
        "id": "YkziFBryY0E6",
        "outputId": "3f464b46-ce2a-4eb1-e66a-337a7f7c7405"
      },
      "source": [
        "age = 25\r\n",
        "message = \"Happy\" + \" \" + str(age) + \"th Birthday!\"\r\n",
        "print(message)"
      ],
      "execution_count": 61,
      "outputs": [
        {
          "output_type": "stream",
          "text": [
            "Happy 25th Birthday!\n"
          ],
          "name": "stdout"
        },
        {
          "output_type": "error",
          "ename": "AttributeError",
          "evalue": "ignored",
          "traceback": [
            "\u001b[0;31m---------------------------------------------------------------------------\u001b[0m",
            "\u001b[0;31mAttributeError\u001b[0m                            Traceback (most recent call last)",
            "\u001b[0;32m<ipython-input-61-fb0cfc109fce>\u001b[0m in \u001b[0;36m<module>\u001b[0;34m()\u001b[0m\n\u001b[1;32m      2\u001b[0m \u001b[0mmessage\u001b[0m \u001b[0;34m=\u001b[0m \u001b[0;34m\"Happy\"\u001b[0m \u001b[0;34m+\u001b[0m \u001b[0;34m\" \"\u001b[0m \u001b[0;34m+\u001b[0m \u001b[0mstr\u001b[0m\u001b[0;34m(\u001b[0m\u001b[0mage\u001b[0m\u001b[0;34m)\u001b[0m \u001b[0;34m+\u001b[0m \u001b[0;34m\"th Birthday!\"\u001b[0m\u001b[0;34m\u001b[0m\u001b[0;34m\u001b[0m\u001b[0m\n\u001b[1;32m      3\u001b[0m \u001b[0mprint\u001b[0m\u001b[0;34m(\u001b[0m\u001b[0mmessage\u001b[0m\u001b[0;34m)\u001b[0m\u001b[0;34m\u001b[0m\u001b[0;34m\u001b[0m\u001b[0m\n\u001b[0;32m----> 4\u001b[0;31m \u001b[0mage\u001b[0m\u001b[0;34m.\u001b[0m\u001b[0mtype\u001b[0m\u001b[0;34m\u001b[0m\u001b[0;34m\u001b[0m\u001b[0m\n\u001b[0m",
            "\u001b[0;31mAttributeError\u001b[0m: 'int' object has no attribute 'type'"
          ]
        }
      ]
    },
    {
      "cell_type": "code",
      "metadata": {
        "id": "f5staNR9Ybzd"
      },
      "source": [
        ""
      ],
      "execution_count": null,
      "outputs": []
    }
  ]
}